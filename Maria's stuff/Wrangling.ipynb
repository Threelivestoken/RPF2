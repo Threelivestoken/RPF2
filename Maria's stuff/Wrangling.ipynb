{
 "cells": [
  {
   "cell_type": "code",
   "execution_count": 23,
   "id": "3afc8861",
   "metadata": {},
   "outputs": [],
   "source": [
    "import pandas as pd\n",
    "import json\n",
    "import seaborn as sns\n",
    "import matplotlib.pyplot as plt\n",
    "import numpy as np\n",
    "import statistics as stat"
   ]
  },
  {
   "cell_type": "code",
   "execution_count": 24,
   "id": "e3947f0a",
   "metadata": {},
   "outputs": [],
   "source": [
    "jsonPlaylists = json.load(open(\"/Users/marianguyen/Documents/GitHub/RPF2/Maria's stuff/mpd.slice.0-999.json\"))\n",
    "jsonSongs = json.load(open(\"/Users/marianguyen/Documents/GitHub/RPF2/Maria's stuff/songs_0-999.json\"))\n",
    "jsonArtists = json.load(open(\"/Users/marianguyen/Documents/GitHub/RPF2/Maria's stuff/artists_0-999.json\"))\n",
    "jsonAlbums = json.load(open(\"/Users/marianguyen/Documents/GitHub/RPF2/Maria's stuff/albums_0-999.json\"))\n",
    "jsonSpindt = json.load(open(\"/Users/marianguyen/Documents/GitHub/RPF2/Maria's stuff/Vetting_Playlist.json\"))"
   ]
  },
  {
   "cell_type": "code",
   "execution_count": 25,
   "id": "b14977a9",
   "metadata": {},
   "outputs": [],
   "source": [
    "spindtArr = [[],[]]\n",
    "for i in jsonSpindt:\n",
    "    spindtArr[0].append(i)\n",
    "    spindtArr[1].append(jsonSpindt[i])"
   ]
  },
  {
   "cell_type": "code",
   "execution_count": 26,
   "id": "2fe6d5ff",
   "metadata": {},
   "outputs": [],
   "source": [
    "spindt = pd.DataFrame(spindtArr)\n",
    "spindt.columns = spindt.iloc[0]\n",
    "spindt = spindt.drop(spindt.index[0])\n",
    "spindt = spindt.reset_index()\n",
    "spindt = spindt.drop(['index', 'images', 'id', 'external_urls', 'followers', 'type', 'uri', 'owner', 'description', 'primary_color', 'snapshot_id', 'href', 'collaborative', 'public'], axis=1)\n",
    "spindt.iloc[0, 0] = spindt.iloc[0, 0].lower()"
   ]
  },
  {
   "cell_type": "code",
   "execution_count": 27,
   "id": "d09ebb83",
   "metadata": {},
   "outputs": [],
   "source": [
    "spindtItemsArr = []\n",
    "for i in spindt['tracks'][0]['items']:\n",
    "    spindtItemsArr.append(i)"
   ]
  },
  {
   "cell_type": "code",
   "execution_count": 28,
   "id": "bce6b69d",
   "metadata": {},
   "outputs": [],
   "source": [
    "spindtTracksArr = []\n",
    "for i in range(len(spindtItemsArr)):\n",
    "    spindtTracksArr.append(spindtItemsArr[i]['track'])"
   ]
  },
  {
   "cell_type": "code",
   "execution_count": 29,
   "id": "50b7cfbb",
   "metadata": {},
   "outputs": [],
   "source": [
    "spindtTracks = pd.DataFrame(spindtTracksArr)"
   ]
  },
  {
   "cell_type": "code",
   "execution_count": 30,
   "id": "198fd8e4",
   "metadata": {},
   "outputs": [],
   "source": [
    "spindtTracks = spindtTracks.drop(['disc_number', 'episode', 'external_ids', 'external_urls', 'href', 'is_local', 'preview_url', 'track', 'type', 'uri'], axis=1)"
   ]
  },
  {
   "cell_type": "code",
   "execution_count": 31,
   "id": "d2aabb80",
   "metadata": {},
   "outputs": [],
   "source": [
    "playlists = pd.DataFrame(jsonPlaylists[\"playlists\"])\n",
    "songs = pd.DataFrame(jsonSongs)\n",
    "artists = pd.DataFrame(jsonArtists)\n",
    "albums = pd.DataFrame(jsonAlbums)"
   ]
  },
  {
   "cell_type": "code",
   "execution_count": 32,
   "id": "4193bf38",
   "metadata": {},
   "outputs": [],
   "source": [
    "songs = songs.T\n",
    "artists = artists.T\n",
    "albums = albums.T"
   ]
  },
  {
   "cell_type": "code",
   "execution_count": 33,
   "id": "01a0db28",
   "metadata": {},
   "outputs": [],
   "source": [
    "songs = songs.reset_index()\n",
    "songs = songs.drop(['index', 'disc_number', 'preview_url', 'type', 'external_urls', 'is_local'], axis=1)\n",
    "artists = artists.reset_index()\n",
    "artists = artists.drop(['index', 'external_urls', 'type', 'images'], axis=1)\n",
    "albums = albums.reset_index()\n",
    "albums = albums.dropna()\n",
    "albums = albums.reset_index()\n",
    "albums = albums.drop(['index', 'external_urls', 'external_ids', 'images', 'type', 'copyrights', 'level_0', 'genres'], axis=1)"
   ]
  },
  {
   "cell_type": "code",
   "execution_count": 34,
   "id": "3f3a05f5",
   "metadata": {},
   "outputs": [],
   "source": [
    "playlists = playlists.drop(['pid', 'collaborative', 'description', 'num_edits', 'num_followers', 'modified_at'], axis=1)\n"
   ]
  },
  {
   "cell_type": "code",
   "execution_count": 35,
   "id": "fb7b785d",
   "metadata": {},
   "outputs": [],
   "source": [
    "names = []\n",
    "for name in playlists['name']:\n",
    "    names.append(name.lower())\n",
    "playlists['name'] = names"
   ]
  },
  {
   "cell_type": "code",
   "execution_count": 36,
   "id": "2553d335",
   "metadata": {},
   "outputs": [],
   "source": [
    "tracks = pd.DataFrame(playlists['tracks'])"
   ]
  },
  {
   "cell_type": "code",
   "execution_count": 37,
   "id": "f74f2281",
   "metadata": {},
   "outputs": [],
   "source": [
    "newtracks = []\n",
    "\n",
    "for r,c in tracks.iterrows():\n",
    "    playlist = tracks.iloc[r,0]\n",
    "    for song in playlist:\n",
    "        newtracks.append(song)"
   ]
  },
  {
   "cell_type": "code",
   "execution_count": 38,
   "id": "32104a40",
   "metadata": {},
   "outputs": [],
   "source": [
    "tracks = pd.DataFrame(newtracks)"
   ]
  },
  {
   "cell_type": "code",
   "execution_count": 39,
   "id": "cfbe3943",
   "metadata": {},
   "outputs": [],
   "source": [
    "tracks = tracks.drop('pos', axis=1)"
   ]
  },
  {
   "cell_type": "code",
   "execution_count": 40,
   "id": "aa11ec49",
   "metadata": {},
   "outputs": [],
   "source": [
    "tracks = tracks.drop_duplicates()"
   ]
  },
  {
   "cell_type": "code",
   "execution_count": 42,
   "id": "c22f4926",
   "metadata": {},
   "outputs": [],
   "source": [
    "spindtTracks.to_csv(\"/Users/marianguyen/Documents/GitHub/RPF2/Maria's stuff/spindtTracks.csv\")\n",
    "# albums.to_csv(\"/Users/marianguyen/Documents/GitHub/RPF2/Maria's stuff/albums.csv\") \n",
    "songs.to_csv(\"/Users/marianguyen/Documents/GitHub/RPF2/Maria's stuff/songs.csv\")\n",
    "artists.to_csv(\"/Users/marianguyen/Documents/GitHub/RPF2/Maria's stuff/artists.csv\")\n",
    "# tracks.to_csv(\"/Users/marianguyen/Documents/GitHub/RPF2/Maria's stuff/tracks.csv\") "
   ]
  }
 ],
 "metadata": {
  "kernelspec": {
   "display_name": "Python 3 (ipykernel)",
   "language": "python",
   "name": "python3"
  },
  "language_info": {
   "codemirror_mode": {
    "name": "ipython",
    "version": 3
   },
   "file_extension": ".py",
   "mimetype": "text/x-python",
   "name": "python",
   "nbconvert_exporter": "python",
   "pygments_lexer": "ipython3",
   "version": "3.11.5"
  }
 },
 "nbformat": 4,
 "nbformat_minor": 5
}
