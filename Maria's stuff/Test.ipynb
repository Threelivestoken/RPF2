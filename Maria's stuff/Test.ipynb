{
 "cells": [
  {
   "cell_type": "code",
   "execution_count": 44,
   "metadata": {},
   "outputs": [],
   "source": [
    "import json\n",
    "import pandas as pd\n",
    "import matplotlib.pyplot as plt\n",
    "from scipy.cluster.hierarchy import dendrogram, linkage\n",
    "\n",
    "from sklearn.preprocessing import StandardScaler\n",
    "from sklearn.preprocessing import LabelEncoder, StandardScaler\n",
    "from sklearn.cluster import AgglomerativeClustering"
   ]
  },
  {
   "cell_type": "code",
   "execution_count": 45,
   "metadata": {},
   "outputs": [],
   "source": [
    "with open(\"albums_0-999.json\", 'r') as json_file:\n",
    "    albums = json.load(json_file)"
   ]
  },
  {
   "cell_type": "code",
   "execution_count": 46,
   "metadata": {},
   "outputs": [
    {
     "data": {
      "text/plain": [
       "dict_keys(['album_type', 'artists', 'available_markets', 'copyrights', 'external_ids', 'external_urls', 'genres', 'href', 'id', 'images', 'label', 'name', 'popularity', 'release_date', 'release_date_precision', 'total_tracks', 'tracks', 'type', 'uri'])"
      ]
     },
     "execution_count": 46,
     "metadata": {},
     "output_type": "execute_result"
    }
   ],
   "source": [
    "albums['6vV5UrXcfyQD1wu4Qo2I9K'].keys()"
   ]
  },
  {
   "cell_type": "code",
   "execution_count": 52,
   "metadata": {},
   "outputs": [],
   "source": [
    "# Load the datasets\n",
    "vetting = pd.read_csv('spindtTracks.csv')\n",
    "songs = pd.read_csv('songs.csv')\n",
    "artists = pd.read_csv('artists.csv')"
   ]
  },
  {
   "cell_type": "code",
   "execution_count": 57,
   "metadata": {},
   "outputs": [],
   "source": [
    "# Encode categorical features in the Vetting playlist dataset\n",
    "label_encoder = LabelEncoder()\n",
    "vetting['album_encoded'] = label_encoder.fit_transform(vetting['album'])\n",
    "vetting['artists_encoded'] = label_encoder.fit_transform(vetting['artists'])\n",
    "vetting['explicit_encoded'] = label_encoder.fit_transform(vetting['explicit'])\n",
    "\n",
    "# Select features for clustering\n",
    "features_vetting = ['album_encoded', 'artists_encoded', 'explicit_encoded', 'popularity']\n",
    "\n",
    "# Standardize the features\n",
    "scaler = StandardScaler()\n",
    "vetting[features_vetting] = scaler.fit_transform(vetting[features_vetting])\n",
    "\n",
    "# Perform hierarchical clustering \n",
    "Z = linkage(vetting[features_vetting], method='ward', metric='euclidean')"
   ]
  },
  {
   "cell_type": "code",
   "execution_count": 58,
   "metadata": {},
   "outputs": [
    {
     "data": {
      "image/png": "[encoded data removed]",
      "text/plain": [
       "<Figure size 1200x600 with 1 Axes>"
      ]
     },
     "metadata": {},
     "output_type": "display_data"
    }
   ],
   "source": [
    "# Plot to  optimal number of clusters\n",
    "plt.figure(figsize=(12, 6))\n",
    "dendrogram(Z)\n",
    "plt.title('Hierarchical Clustering')\n",
    "plt.xlabel('Index')\n",
    "plt.ylabel('Distance')\n",
    "plt.show()"
   ]
  },
  {
   "cell_type": "code",
   "execution_count": 61,
   "metadata": {},
   "outputs": [
    {
     "name": "stderr",
     "output_type": "stream",
     "text": [
      "/Users/marianguyen/anaconda3/lib/python3.11/site-packages/sklearn/cluster/_agglomerative.py:1005: FutureWarning: Attribute `affinity` was deprecated in version 1.2 and will be removed in 1.4. Use `metric` instead\n",
      "  warnings.warn(\n"
     ]
    }
   ],
   "source": [
    "#determine the optimal number of clusters\n",
    "num_clusters = 4\n",
    "\n",
    "# Perform clustering \n",
    "cluster = AgglomerativeClustering(n_clusters=num_clusters, affinity='euclidean', linkage='ward')\n",
    "vetting['cluster'] = cluster.fit_predict(vetting[features_vetting])\n",
    "\n",
    "# Find cluster most similar to Ms. Spindt's \n",
    "cluster_stats = vetting.groupby('cluster')['popularity'].mean()\n",
    "most_similar_cluster = cluster_stats.idxmax()\n",
    "\n",
    "# Describe the most similar cluster\n",
    "cluster_description = vetting[vetting['cluster'] == most_similar_cluster].describe()\n",
    "\n",
    "# Select three songs from the most similar cluster in the Vetting playlist dataset\n",
    "recommended_songs_vetting = vetting[vetting['cluster'] == most_similar_cluster].sample(3)[['name', 'artists', 'album']]\n",
    "\n",
    "# Recommend songs from the songs.csv dataset similar to the most similar cluster\n",
    "similar_songs_ids = songs[songs['popularity'] > 70].sample(10)['id']  # Example: selecting 10 popular songs\n",
    "similar_songs = songs[songs['id'].isin(similar_songs_ids)][['name', 'artists', 'album']]\n",
    "\n",
    "# Retrieve artist names for the recommended songs\n",
    "recommended_artist_names = []\n",
    "for artist_id in recommended_songs_vetting['artists']:\n",
    "    matching_artists = artists[artists['id'] == artist_id]['name'].values\n",
    "    if len(matching_artists) > 0:\n",
    "        artist_name = matching_artists[0]\n",
    "        recommended_artist_names.append(artist_name)\n",
    "    else:\n",
    "        recommended_artist_names.append(\"Unknown Artist\")\n",
    "\n",
    "recommended_songs_vetting['artist_name'] = recommended_artist_names"
   ]
  },
  {
   "cell_type": "code",
   "execution_count": 62,
   "metadata": {},
   "outputs": [
    {
     "name": "stdout",
     "output_type": "stream",
     "text": [
      "Number of Clusters in Vetting Playlist Dataset: 4\n",
      "Description of Cluster Most Similar to Ms. Spindt's Vetting Playlist:\n",
      "       Unnamed: 0    duration_ms  popularity  track_number  album_encoded  \\\n",
      "count   20.000000      20.000000   20.000000      20.00000      20.000000   \n",
      "mean    55.500000  227781.200000    1.368008       4.35000      -0.661367   \n",
      "std     31.045807   68512.854106    0.533629       2.83354       0.470461   \n",
      "min     15.000000  120426.000000    0.631388       1.00000      -1.403873   \n",
      "25%     26.750000  198689.500000    1.050365       2.00000      -1.030706   \n",
      "50%     43.000000  223673.000000    1.235494       3.50000      -0.810633   \n",
      "75%     88.250000  259503.250000    1.576522       6.00000      -0.236530   \n",
      "max     99.000000  351309.000000    2.580117      12.00000       0.127068   \n",
      "\n",
      "       artists_encoded  explicit_encoded  cluster  \n",
      "count        20.000000      2.000000e+01     20.0  \n",
      "mean         -0.246512     -1.428571e-01      1.0  \n",
      "std           0.657200      2.847662e-17      0.0  \n",
      "min          -1.403342     -1.428571e-01      1.0  \n",
      "25%          -0.737447     -1.428571e-01      1.0  \n",
      "50%          -0.384914     -1.428571e-01      1.0  \n",
      "75%           0.385436     -1.428571e-01      1.0  \n",
      "max           0.737969     -1.428571e-01      1.0  \n",
      "\n",
      "Three Song Recommendations for Vetting Playlist:\n",
      "                                   name  \\\n",
      "71                           Break-Thru   \n",
      "26                           California   \n",
      "89  The Skin of My Yellow Country Teeth   \n",
      "\n",
      "                                              artists  \\\n",
      "71  [{'external_urls': {'spotify': 'https://open.s...   \n",
      "26  [{'external_urls': {'spotify': 'https://open.s...   \n",
      "89  [{'external_urls': {'spotify': 'https://open.s...   \n",
      "\n",
      "                                                album     artist_name  \n",
      "71  {'album_type': 'album', 'artists': [{'external...  Unknown Artist  \n",
      "26  {'album_type': 'album', 'artists': [{'external...  Unknown Artist  \n",
      "89  {'album_type': 'album', 'artists': [{'external...  Unknown Artist  \n",
      "\n",
      "Recommended Songs from songs.csv Dataset:\n",
      "                                               name  \\\n",
      "524                    Drowning (feat. Kodak Black)   \n",
      "1359                                          POWER   \n",
      "2654                                      The Climb   \n",
      "5980                      Hold On, We're Going Home   \n",
      "6333                                     Gunslinger   \n",
      "6701   Sweet Dreams (Are Made of This) - Remastered   \n",
      "8555                                Tears in Heaven   \n",
      "12274                                    Hard Times   \n",
      "15655      Just Give Me a Reason (feat. Nate Ruess)   \n",
      "19856                                       Badfish   \n",
      "\n",
      "                                                 artists  \\\n",
      "524    [{'external_urls': {'spotify': 'https://open.s...   \n",
      "1359   [{'external_urls': {'spotify': 'https://open.s...   \n",
      "2654   [{'external_urls': {'spotify': 'https://open.s...   \n",
      "5980   [{'external_urls': {'spotify': 'https://open.s...   \n",
      "6333   [{'external_urls': {'spotify': 'https://open.s...   \n",
      "6701   [{'external_urls': {'spotify': 'https://open.s...   \n",
      "8555   [{'external_urls': {'spotify': 'https://open.s...   \n",
      "12274  [{'external_urls': {'spotify': 'https://open.s...   \n",
      "15655  [{'external_urls': {'spotify': 'https://open.s...   \n",
      "19856  [{'external_urls': {'spotify': 'https://open.s...   \n",
      "\n",
      "                                                   album  \n",
      "524    {'album_type': 'album', 'artists': [{'external...  \n",
      "1359   {'album_type': 'album', 'artists': [{'external...  \n",
      "2654   {'album_type': 'album', 'artists': [{'external...  \n",
      "5980   {'album_type': 'album', 'artists': [{'external...  \n",
      "6333   {'album_type': 'album', 'artists': [{'external...  \n",
      "6701   {'album_type': 'album', 'artists': [{'external...  \n",
      "8555   {'album_type': 'album', 'artists': [{'external...  \n",
      "12274  {'album_type': 'album', 'artists': [{'external...  \n",
      "15655  {'album_type': 'album', 'artists': [{'external...  \n",
      "19856  {'album_type': 'album', 'artists': [{'external...  \n"
     ]
    }
   ],
   "source": [
    "print(\"Number of Clusters in Vetting Playlist Dataset:\", num_clusters)\n",
    "print(\"Description of Cluster Most Similar to Ms. Spindt's Vetting Playlist:\")\n",
    "print(cluster_description)\n",
    "print(\"\\nThree Song Recommendations for Vetting Playlist:\")\n",
    "print(recommended_songs_vetting)\n",
    "\n",
    "print(\"\\nRecommended Songs from songs.csv Dataset:\")\n",
    "print(similar_songs)"
   ]
  }
 ],
 "metadata": {
  "kernelspec": {
   "display_name": "base",
   "language": "python",
   "name": "python3"
  },
  "language_info": {
   "codemirror_mode": {
    "name": "ipython",
    "version": 3
   },
   "file_extension": ".py",
   "mimetype": "text/x-python",
   "name": "python",
   "nbconvert_exporter": "python",
   "pygments_lexer": "ipython3",
   "version": "3.11.5"
  }
 },
 "nbformat": 4,
 "nbformat_minor": 2
}
