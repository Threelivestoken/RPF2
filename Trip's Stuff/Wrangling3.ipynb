{
 "cells": [
  {
   "cell_type": "code",
   "execution_count": 1,
   "id": "5710349c",
   "metadata": {},
   "outputs": [],
   "source": [
    "import pandas as pd\n",
    "import json\n",
    "#for plotting\n",
    "import seaborn as sns\n",
    "import matplotlib.pyplot as plt\n",
    "import numpy as np\n",
    "\n",
    "#statistics\n",
    "import statistics as stat"
   ]
  },
  {
   "cell_type": "code",
   "execution_count": null,
   "id": "29bb170c",
   "metadata": {},
   "outputs": [],
   "source": [
    "#plan\n",
    "#associate genres with each playlist"
   ]
  },
  {
   "cell_type": "code",
   "execution_count": 2,
   "id": "fd558760",
   "metadata": {},
   "outputs": [],
   "source": [
    "with open(\"mpd.slice.0-999.json\",'r') as json_file:\n",
    "    data=json.load(json_file)"
   ]
  },
  {
   "cell_type": "code",
   "execution_count": 12,
   "id": "5f8110b0",
   "metadata": {},
   "outputs": [],
   "source": [
    "#Create library with artists and their genres\n",
    "#1First stuff(load file)\n",
    "with open(\"artists_0-999.json\",'r') as json_file:\n",
    "    df_2=json.load(json_file)\n",
    "#2\n",
    "artist_dict={\"name\":[],\"genres\":[]}\n",
    "for ID in df_2:\n",
    "    artist_dict[\"name\"].append(df_2[ID][\"name\"])\n",
    "    artist_dict[\"genres\"].append(df_2[ID][\"genres\"])\n",
    "#3\n",
    "genre={}\n",
    "for ID in df_2:\n",
    "    if df_2[ID][\"genres\"]==list:\n",
    "        genre[df_2[ID][\"name\"]]=df_2[ID][\"genres\"]\n",
    "    else:\n",
    "        genre[df_2[ID][\"name\"]]=[df_2[ID][\"genres\"]]"
   ]
  },
  {
   "cell_type": "code",
   "execution_count": 42,
   "id": "baddba45",
   "metadata": {},
   "outputs": [
    {
     "ename": "AttributeError",
     "evalue": "'list' object has no attribute 'unique'",
     "output_type": "error",
     "traceback": [
      "\u001b[1;31m---------------------------------------------------------------------------\u001b[0m",
      "\u001b[1;31mAttributeError\u001b[0m                            Traceback (most recent call last)",
      "\u001b[1;32m~\\AppData\\Local\\Temp\\ipykernel_20260\\1837378936.py\u001b[0m in \u001b[0;36m<module>\u001b[1;34m\u001b[0m\n\u001b[0;32m     12\u001b[0m         \u001b[0mlib\u001b[0m\u001b[1;33m[\u001b[0m\u001b[1;34m\"artist\"\u001b[0m\u001b[1;33m]\u001b[0m\u001b[1;33m.\u001b[0m\u001b[0mappend\u001b[0m\u001b[1;33m(\u001b[0m\u001b[0mname\u001b[0m\u001b[1;33m)\u001b[0m\u001b[1;33m\u001b[0m\u001b[1;33m\u001b[0m\u001b[0m\n\u001b[0;32m     13\u001b[0m     \u001b[1;31m#find the most likely top genres\u001b[0m\u001b[1;33m\u001b[0m\u001b[1;33m\u001b[0m\u001b[0m\n\u001b[1;32m---> 14\u001b[1;33m     \u001b[0munique\u001b[0m\u001b[1;33m=\u001b[0m\u001b[0mlib\u001b[0m\u001b[1;33m[\u001b[0m\u001b[1;34m\"genre\"\u001b[0m\u001b[1;33m]\u001b[0m\u001b[1;33m.\u001b[0m\u001b[0munique\u001b[0m\u001b[1;33m(\u001b[0m\u001b[1;33m)\u001b[0m\u001b[1;33m\u001b[0m\u001b[1;33m\u001b[0m\u001b[0m\n\u001b[0m\u001b[0;32m     15\u001b[0m \u001b[1;33m\u001b[0m\u001b[0m\n\u001b[0;32m     16\u001b[0m \u001b[1;31m#print(artistslist)\u001b[0m\u001b[1;33m\u001b[0m\u001b[1;33m\u001b[0m\u001b[0m\n",
      "\u001b[1;31mAttributeError\u001b[0m: 'list' object has no attribute 'unique'"
     ]
    }
   ],
   "source": [
    "\n",
    "data[\"playlists\"][1]\n",
    "playcorrect={}\n",
    "for playlist in range(len(data[\"playlists\"])):\n",
    "    #playcorrect[playlist], create temporary library so that I can put some data in it\n",
    "    lib={\"artist\":[],\"genre\":[]}\n",
    "    for songinplaylist in range(len(data[\"playlists\"][playlist][\"tracks\"])):\n",
    "        #Artist name:data[\"playlists\"][playlist][\"tracks\"][songinplaylist][\"artist_name\"]\n",
    "        name=data[\"playlists\"][playlist][\"tracks\"][songinplaylist][\"artist_name\"]#get the artist's name so that you can get the genres and put them in\n",
    "        #check if the name is in the list, and if so you add to the list of genres, either way you add the name to the artistlist:\n",
    "        if name in genre:\n",
    "            lib[\"genre\"].append(genre[name])\n",
    "        lib[\"artist\"].append(name)\n",
    "    #find the most likely top genres\n",
    "    unique=lib[\"genre\"].unique()\n",
    "    \n",
    "#print(artistslist)\n",
    "#print(artistslist)\n",
    "        #artistlist.append(data[\"playlists\"][playlist][\"tracks\"][songinplaylist][\"artist_name\"])"
   ]
  },
  {
   "cell_type": "code",
   "execution_count": 11,
   "id": "082ae09c",
   "metadata": {},
   "outputs": [
    {
     "data": {
      "text/plain": [
       "{'pos': 0,\n",
       " 'artist_name': 'Missy Elliott',\n",
       " 'track_uri': 'spotify:track:0UaMYEvWZi0ZqiDOoHU3YI',\n",
       " 'artist_uri': 'spotify:artist:2wIVse2owClT7go1WT98tk',\n",
       " 'track_name': 'Lose Control (feat. Ciara & Fat Man Scoop)',\n",
       " 'album_uri': 'spotify:album:6vV5UrXcfyQD1wu4Qo2I9K',\n",
       " 'duration_ms': 226863,\n",
       " 'album_name': 'The Cookbook'}"
      ]
     },
     "execution_count": 11,
     "metadata": {},
     "output_type": "execute_result"
    }
   ],
   "source": [
    "data[\"playlists\"][0][\"tracks\"][0][\"artist_name\"]"
   ]
  },
  {
   "cell_type": "code",
   "execution_count": null,
   "id": "a0f11826",
   "metadata": {},
   "outputs": [],
   "source": []
  },
  {
   "cell_type": "code",
   "execution_count": null,
   "id": "153cf9db",
   "metadata": {},
   "outputs": [],
   "source": []
  },
  {
   "cell_type": "code",
   "execution_count": null,
   "id": "be954032",
   "metadata": {},
   "outputs": [],
   "source": [
    "with open(\"songs_0-999.json\",'r') as json_file:\n",
    "    jsongs=json.load(json_file)\n"
   ]
  },
  {
   "cell_type": "code",
   "execution_count": null,
   "id": "6c08e060",
   "metadata": {},
   "outputs": [],
   "source": []
  },
  {
   "cell_type": "code",
   "execution_count": null,
   "id": "564b6e9f",
   "metadata": {},
   "outputs": [],
   "source": [
    "#for taco in jsongs:\n",
    "#    print(taco)\n",
    "#jsongs[\"0UaMYEvWZi0ZqiDOoHU3YI\"]"
   ]
  },
  {
   "cell_type": "code",
   "execution_count": null,
   "id": "59099476",
   "metadata": {},
   "outputs": [],
   "source": [
    "x=[]\n",
    "#df_playlist=pd.DataFrame(data)\n",
    "#you get a list of all of the artists(x) in order\n",
    "for playlist in range(len(data[\"playlists\"])):\n",
    "    for song in range(len(data[\"playlists\"][playlist][\"tracks\"])):\n",
    "        x.append(data[\"playlists\"][playlist][\"tracks\"][song][\"artist_name\"])\n",
    "#jsongs[\"0UaMYEvWZi0ZqiDOoHU3YI\"]"
   ]
  },
  {
   "cell_type": "code",
   "execution_count": null,
   "id": "7665002b",
   "metadata": {},
   "outputs": [],
   "source": []
  },
  {
   "cell_type": "code",
   "execution_count": null,
   "id": "882f48cd",
   "metadata": {},
   "outputs": [],
   "source": [
    "#data[\"playlists\"][0][\"tracks\"][0][\"artist_name\"]"
   ]
  },
  {
   "cell_type": "code",
   "execution_count": null,
   "id": "22d392fd",
   "metadata": {},
   "outputs": [],
   "source": []
  },
  {
   "cell_type": "code",
   "execution_count": null,
   "id": "f8507af4",
   "metadata": {},
   "outputs": [],
   "source": []
  },
  {
   "cell_type": "code",
   "execution_count": 16,
   "id": "c816dc9e",
   "metadata": {},
   "outputs": [
    {
     "name": "stdout",
     "output_type": "stream",
     "text": [
      "5\n"
     ]
    },
    {
     "data": {
      "image/png": "[encoded data removed]",
      "text/plain": [
       "<Figure size 640x480 with 1 Axes>"
      ]
     },
     "metadata": {},
     "output_type": "display_data"
    }
   ],
   "source": [
    "#Not official stuff, just for looking\n",
    "y=[]\n",
    "for taco in range(len(data[\"playlists\"])):\n",
    "    y.append(len(data[\"playlists\"][taco][\"tracks\"]))\n",
    "df=pd.DataFrame({\"x\":range(1,len(y)+1),\"y\":sorted(y)})#sorted(y)\n",
    "\n",
    "sns.lineplot(data=df,x='x',y='y')\n",
    "plt.xlabel(\"x\")\n",
    "plt.ylabel(\"y\")\n",
    "stat.mean(y)\n",
    "print(min(y))"
   ]
  },
  {
   "cell_type": "code",
   "execution_count": null,
   "id": "c2e3bc3a",
   "metadata": {},
   "outputs": [],
   "source": []
  },
  {
   "cell_type": "code",
   "execution_count": null,
   "id": "40e0810a",
   "metadata": {},
   "outputs": [],
   "source": [
    "#len(data[\"playlists\"][taco][\"tracks\"])"
   ]
  },
  {
   "cell_type": "code",
   "execution_count": null,
   "id": "c728204a",
   "metadata": {},
   "outputs": [],
   "source": []
  },
  {
   "cell_type": "code",
   "execution_count": null,
   "id": "d5311639",
   "metadata": {},
   "outputs": [],
   "source": [
    "#make variable called artist so that you can then make a dataframe that has songs and the genre\n",
    "#for taco in range(len(data[\"playlists\"])):\n",
    "#    for burrito in range(len(data[\"playlists\"][taco][\"tracks\"])):\n",
    "#        artist=data[\"playlists\"][taco][\"tracks\"][burrito][\"artist_name\"]"
   ]
  },
  {
   "cell_type": "code",
   "execution_count": null,
   "id": "f78def9c",
   "metadata": {},
   "outputs": [],
   "source": [
    "#x=data[\"playlists\"][0][\"tracks\"]\n",
    "#x\n",
    "#for hotdog in range(len(x)):\n",
    "#    data[\"playlists\"][0][\"tracks\"][hotdog][\"artist_name\"]\n",
    "#\n",
    "#[0][\"artist_name\"]"
   ]
  },
  {
   "cell_type": "code",
   "execution_count": null,
   "id": "f6762eae",
   "metadata": {},
   "outputs": [],
   "source": []
  },
  {
   "cell_type": "code",
   "execution_count": null,
   "id": "d9f2992a",
   "metadata": {},
   "outputs": [],
   "source": [
    "#example library\n",
    "library={\n",
    "    \"playlist1\":[[\"Song\",\"Artist\",[\"Pop\",\"rock\"]],[\"Song\",\"Artist\",[\"Pop\",\"rock\"]]] \n",
    "}"
   ]
  },
  {
   "cell_type": "code",
   "execution_count": null,
   "id": "08d20a63",
   "metadata": {},
   "outputs": [],
   "source": []
  },
  {
   "cell_type": "code",
   "execution_count": null,
   "id": "8377340c",
   "metadata": {},
   "outputs": [],
   "source": []
  },
  {
   "cell_type": "code",
   "execution_count": null,
   "id": "81ee5841",
   "metadata": {},
   "outputs": [],
   "source": []
  },
  {
   "cell_type": "code",
   "execution_count": null,
   "id": "15e55429",
   "metadata": {},
   "outputs": [],
   "source": [
    "data_art"
   ]
  },
  {
   "cell_type": "code",
   "execution_count": null,
   "id": "b29800db",
   "metadata": {},
   "outputs": [],
   "source": [
    "pip show pandas"
   ]
  },
  {
   "cell_type": "code",
   "execution_count": null,
   "id": "a8f94a18",
   "metadata": {},
   "outputs": [],
   "source": []
  }
 ],
 "metadata": {
  "kernelspec": {
   "display_name": "Python 3 (ipykernel)",
   "language": "python",
   "name": "python3"
  },
  "language_info": {
   "codemirror_mode": {
    "name": "ipython",
    "version": 3
   },
   "file_extension": ".py",
   "mimetype": "text/x-python",
   "name": "python",
   "nbconvert_exporter": "python",
   "pygments_lexer": "ipython3",
   "version": "3.9.13"
  }
 },
 "nbformat": 4,
 "nbformat_minor": 5
}
